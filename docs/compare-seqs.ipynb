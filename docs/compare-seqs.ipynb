{
 "cells": [
  {
   "cell_type": "markdown",
   "metadata": {},
   "source": [
    "# Preamble\n",
    "\n",
    "There were files generated prior using the same software. I need to know if the FastA files are exactly the same."
   ]
  },
  {
   "cell_type": "markdown",
   "metadata": {},
   "source": [
    "# File locations"
   ]
  },
  {
   "cell_type": "code",
   "execution_count": null,
   "metadata": {
    "vscode": {
     "languageId": "shellscript"
    }
   },
   "outputs": [],
   "source": [
    "cd /nesi/nobackup/uoa00348/boey/2023-estuarine-cazyme-diversity\n",
    "\n",
    "oldfiles=data/0.previous_work/boey_202204_PULomics/MAG/prodigal_faa\n",
    "newfiles=data/2.orf_prediction"
   ]
  },
  {
   "cell_type": "markdown",
   "metadata": {},
   "source": [
    "# Compare filenames"
   ]
  },
  {
   "cell_type": "code",
   "execution_count": null,
   "metadata": {
    "vscode": {
     "languageId": "shellscript"
    }
   },
   "outputs": [],
   "source": [
    "counter=0\n",
    "\n",
    "for file in ${newfiles}/Ww*.faa; do\n",
    "  # Get file basename\n",
    "  bin=$(basename \"${file}\" _pred.faa)\n",
    "  obin=$(ls -1 ${oldfiles} | grep \"${bin}\" | sed 's/\\.prod\\.faa//g')\n",
    "\n",
    "  # Check if bin names matched\n",
    "  if [ \"${bin}\" != \"${obin}\" ]; then\n",
    "    printf \"Bins don't match: %s\\t%s\\n\" ${bin} ${obin}\n",
    "  fi\n",
    "  \n",
    "  # Increase counter\n",
    "  counter=$((counter+1))\n",
    "done\n",
    "\n",
    "echo $counter"
   ]
  },
  {
   "cell_type": "markdown",
   "metadata": {},
   "source": [
    "## Outputs\n",
    "\n",
    "There were no outputs, meaning all the bins that were initially analysed were the same ones. The counter read 251. This is the desired result."
   ]
  },
  {
   "cell_type": "markdown",
   "metadata": {},
   "source": [
    "# Compare file contents"
   ]
  },
  {
   "cell_type": "code",
   "execution_count": null,
   "metadata": {
    "vscode": {
     "languageId": "shellscript"
    }
   },
   "outputs": [],
   "source": [
    "for file in ${newfiles}/Ww*.faa; do\n",
    "  # Get file names\n",
    "  bin=$(basename \"${file}\" _pred.faa)\n",
    "  ofile=${oldfiles}/${bin}.prod.faa\n",
    "  \n",
    "  # Compare files\n",
    "  diff --brief ${file} ${ofile} \n",
    "done"
   ]
  },
  {
   "cell_type": "markdown",
   "metadata": {},
   "source": [
    "All files seem to be different. Using Ww157 as a test case, it seems that the prediction done prior uses Prodigal's `-p single`. \n",
    "\n",
    "Checking with both:"
   ]
  },
  {
   "cell_type": "code",
   "execution_count": null,
   "metadata": {
    "vscode": {
     "languageId": "shellscript"
    }
   },
   "outputs": [],
   "source": [
    "prodigal -i Ww157.g__Rhodoluna.fna -f gff -p single -o single.gff -a single.faa\n",
    "\n",
    "diff --report-identical-files Ww157.g__Rhodoluna.prod.faa single.faa"
   ]
  },
  {
   "cell_type": "markdown",
   "metadata": {},
   "source": [
    "Output: `Files Ww157.g__Rhodoluna.prod.faa and single.faa are identical`"
   ]
  },
  {
   "cell_type": "markdown",
   "metadata": {},
   "source": [
    "# Consideration\n",
    "\n",
    "Doug Hyatt has [commented](https://github.com/hyattpd/Prodigal/issues/57) that it is better to use `-p single` for MAGs."
   ]
  },
  {
   "cell_type": "markdown",
   "metadata": {},
   "source": [
    "# Action\n",
    "\n",
    "Change script `2-ORF_prediction.sl` from `-p meta` to `-p single` for consistency."
   ]
  }
 ],
 "metadata": {
  "language_info": {
   "name": "python"
  },
  "orig_nbformat": 4
 },
 "nbformat": 4,
 "nbformat_minor": 2
}
